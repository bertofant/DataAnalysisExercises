{
 "cells": [
  {
   "cell_type": "markdown",
   "id": "ab534356",
   "metadata": {},
   "source": [
    "# Wes McKinney Book: Python for Data Analysis"
   ]
  },
  {
   "cell_type": "markdown",
   "id": "27f80741",
   "metadata": {},
   "source": [
    "## General Info"
   ]
  },
  {
   "cell_type": "markdown",
   "id": "a5088b61",
   "metadata": {},
   "source": [
    "## Chapter 2.2"
   ]
  },
  {
   "cell_type": "markdown",
   "id": "f048bb84",
   "metadata": {},
   "source": [
    "### Useful Jupyter Notebook shorcut\n",
    "ESC -> enter command mode\n",
    "\n",
    "**While in Command mode**\n",
    "* ENTER -> edit cell\n",
    "* p -> open palette with command list and shortcuts\n",
    "* m -> change cell to markdown\n",
    "* y -> change cell to code\n",
    "* a -> add cell above\n",
    "* b -> add cell below\n",
    "* dd -> delete current cell\n",
    "* ctrl+shift+minus -> split cell at cursor\n"
   ]
  },
  {
   "cell_type": "code",
   "execution_count": 1,
   "id": "0cb22862",
   "metadata": {},
   "outputs": [],
   "source": [
    "b = [1, 2, 3]"
   ]
  },
  {
   "cell_type": "markdown",
   "id": "5e781918",
   "metadata": {},
   "source": [
    "Check info on a variable:"
   ]
  },
  {
   "cell_type": "code",
   "execution_count": 3,
   "id": "27aa94f9",
   "metadata": {},
   "outputs": [],
   "source": [
    "b?"
   ]
  },
  {
   "cell_type": "markdown",
   "id": "7c22d008",
   "metadata": {},
   "source": [
    "Check info on a function:"
   ]
  },
  {
   "cell_type": "code",
   "execution_count": 4,
   "id": "69f2200d",
   "metadata": {},
   "outputs": [],
   "source": [
    "print?"
   ]
  },
  {
   "cell_type": "markdown",
   "id": "e862091e",
   "metadata": {},
   "source": [
    "The question mark \"?\" after a function allows to read the docstring associated. E.g."
   ]
  },
  {
   "cell_type": "code",
   "execution_count": 5,
   "id": "f3a67327",
   "metadata": {},
   "outputs": [],
   "source": [
    "def add_numbers(a,b):\n",
    "    \"\"\"\n",
    "    Add two numbers together\n",
    "    Returns\n",
    "    -------\n",
    "    the_sum : type of arguments\n",
    "    \"\"\"\n",
    "    return a + b"
   ]
  },
  {
   "cell_type": "code",
   "execution_count": 6,
   "id": "ee02d5a2",
   "metadata": {},
   "outputs": [],
   "source": [
    "add_numbers?"
   ]
  },
  {
   "cell_type": "markdown",
   "id": "ae3f9521",
   "metadata": {},
   "source": [
    "The question mark can also be used to search the namespace, together with wildcards. e.g.\n"
   ]
  },
  {
   "cell_type": "code",
   "execution_count": 7,
   "id": "cede693e",
   "metadata": {},
   "outputs": [],
   "source": [
    "import numpy as np\n",
    "np.*load*?"
   ]
  },
  {
   "cell_type": "markdown",
   "id": "3bc5016f",
   "metadata": {},
   "source": [
    "check the type of an object with *isinstance*:"
   ]
  },
  {
   "cell_type": "code",
   "execution_count": 8,
   "id": "f9100ff2",
   "metadata": {},
   "outputs": [
    {
     "data": {
      "text/plain": [
       "True"
      ]
     },
     "execution_count": 8,
     "metadata": {},
     "output_type": "execute_result"
    }
   ],
   "source": [
    "a = 5; \n",
    "isinstance(a,int)"
   ]
  },
  {
   "cell_type": "code",
   "execution_count": 9,
   "id": "64bf1dd4",
   "metadata": {},
   "outputs": [
    {
     "data": {
      "text/plain": [
       "True"
      ]
     },
     "execution_count": 9,
     "metadata": {},
     "output_type": "execute_result"
    }
   ],
   "source": [
    "a = 5; b = 4.5\n",
    "isinstance(a,(int,float))"
   ]
  },
  {
   "cell_type": "code",
   "execution_count": 11,
   "id": "0eaf9e44",
   "metadata": {},
   "outputs": [
    {
     "data": {
      "text/plain": [
       "False"
      ]
     },
     "execution_count": 11,
     "metadata": {},
     "output_type": "execute_result"
    }
   ],
   "source": [
    "isinstance(b,int)"
   ]
  },
  {
   "cell_type": "markdown",
   "id": "eea05e44",
   "metadata": {},
   "source": [
    "Integer division, python style vs C-style"
   ]
  },
  {
   "cell_type": "code",
   "execution_count": 14,
   "id": "dde4962b",
   "metadata": {},
   "outputs": [
    {
     "name": "stdout",
     "output_type": "stream",
     "text": [
      "2.5\n"
     ]
    },
    {
     "data": {
      "text/plain": [
       "float"
      ]
     },
     "execution_count": 14,
     "metadata": {},
     "output_type": "execute_result"
    }
   ],
   "source": [
    "# python style -> automatic type conversion\n",
    "a = 5\n",
    "b = 2\n",
    "c = a/b\n",
    "print(c)\n",
    "type(c)"
   ]
  },
  {
   "cell_type": "code",
   "execution_count": 15,
   "id": "b4f0a2d5",
   "metadata": {},
   "outputs": [
    {
     "name": "stdout",
     "output_type": "stream",
     "text": [
      "2\n"
     ]
    },
    {
     "data": {
      "text/plain": [
       "int"
      ]
     },
     "execution_count": 15,
     "metadata": {},
     "output_type": "execute_result"
    }
   ],
   "source": [
    "# C style -> keep result as integer using the // division:\n",
    "a = 5\n",
    "b = 2\n",
    "c = a // 2\n",
    "print(c)\n",
    "type(c)\n"
   ]
  },
  {
   "cell_type": "markdown",
   "id": "df70c77a",
   "metadata": {},
   "source": [
    "### Strings"
   ]
  },
  {
   "cell_type": "raw",
   "id": "10b6ba1c",
   "metadata": {},
   "source": [
    "Strings are immutable. You can't modify them:"
   ]
  },
  {
   "cell_type": "code",
   "execution_count": 16,
   "id": "203f5e13",
   "metadata": {},
   "outputs": [
    {
     "ename": "TypeError",
     "evalue": "'str' object does not support item assignment",
     "output_type": "error",
     "traceback": [
      "\u001b[1;31m---------------------------------------------------------------------------\u001b[0m",
      "\u001b[1;31mTypeError\u001b[0m                                 Traceback (most recent call last)",
      "\u001b[1;32m~\\AppData\\Local\\Temp\\ipykernel_9584\\400657493.py\u001b[0m in \u001b[0;36m<module>\u001b[1;34m\u001b[0m\n\u001b[0;32m      1\u001b[0m \u001b[0ma\u001b[0m \u001b[1;33m=\u001b[0m \u001b[1;34m\"this is a string\"\u001b[0m\u001b[1;33m\u001b[0m\u001b[1;33m\u001b[0m\u001b[0m\n\u001b[1;32m----> 2\u001b[1;33m \u001b[0ma\u001b[0m\u001b[1;33m[\u001b[0m\u001b[1;36m5\u001b[0m\u001b[1;33m]\u001b[0m \u001b[1;33m=\u001b[0m \u001b[1;34m\"f\"\u001b[0m\u001b[1;33m\u001b[0m\u001b[1;33m\u001b[0m\u001b[0m\n\u001b[0m",
      "\u001b[1;31mTypeError\u001b[0m: 'str' object does not support item assignment"
     ]
    }
   ],
   "source": [
    "a = \"this is a string\"\n",
    "a[5] = \"f\""
   ]
  },
  {
   "cell_type": "markdown",
   "id": "8912e2c5",
   "metadata": {},
   "source": [
    "To modify them use the command replace"
   ]
  },
  {
   "cell_type": "code",
   "execution_count": 17,
   "id": "a2a2a147",
   "metadata": {},
   "outputs": [
    {
     "data": {
      "text/plain": [
       "'this is a longer string'"
      ]
     },
     "execution_count": 17,
     "metadata": {},
     "output_type": "execute_result"
    }
   ],
   "source": [
    "b = a.replace(\"string\", \"longer string\")\n",
    "b"
   ]
  },
  {
   "cell_type": "markdown",
   "id": "7f9ad2b1",
   "metadata": {},
   "source": [
    "\"a\" will not be changed however:"
   ]
  },
  {
   "cell_type": "code",
   "execution_count": 18,
   "id": "45dc85a7",
   "metadata": {},
   "outputs": [
    {
     "data": {
      "text/plain": [
       "'this is a string'"
      ]
     },
     "execution_count": 18,
     "metadata": {},
     "output_type": "execute_result"
    }
   ],
   "source": [
    "a"
   ]
  },
  {
   "cell_type": "markdown",
   "id": "5e933610",
   "metadata": {},
   "source": [
    "Many Python objects can be converted to string with *str*"
   ]
  },
  {
   "cell_type": "code",
   "execution_count": 19,
   "id": "30bffcd5",
   "metadata": {},
   "outputs": [
    {
     "name": "stdout",
     "output_type": "stream",
     "text": [
      "5.6\n"
     ]
    }
   ],
   "source": [
    "a = 5.6\n",
    "s =str(a)\n",
    "print(s)"
   ]
  },
  {
   "cell_type": "markdown",
   "id": "46d80a9d",
   "metadata": {},
   "source": [
    "/ is used to escape special characters such as /n. A backslash is inserted therefore as //. You can avoid conversion of / in special characters using the raw string format, placing an r outside of the string:"
   ]
  },
  {
   "cell_type": "code",
   "execution_count": 20,
   "id": "15342d2a",
   "metadata": {},
   "outputs": [],
   "source": [
    "a = r\"This is a / raw / string with four ////\""
   ]
  },
  {
   "cell_type": "code",
   "execution_count": 21,
   "id": "0e1ae020",
   "metadata": {},
   "outputs": [
    {
     "data": {
      "text/plain": [
       "'This is a / raw / string with four ////'"
      ]
     },
     "execution_count": 21,
     "metadata": {},
     "output_type": "execute_result"
    }
   ],
   "source": [
    "a"
   ]
  },
  {
   "cell_type": "markdown",
   "id": "4aff9aec",
   "metadata": {},
   "source": [
    "You can concatenate strings using the +:"
   ]
  },
  {
   "cell_type": "code",
   "execution_count": 22,
   "id": "fa3131b2",
   "metadata": {},
   "outputs": [
    {
     "data": {
      "text/plain": [
       "'this is the first string, this is the second string.'"
      ]
     },
     "execution_count": 22,
     "metadata": {},
     "output_type": "execute_result"
    }
   ],
   "source": [
    "a = \"this is the first string, \"\n",
    "b = \"this is the second string.\"\n",
    "c = a +  b\n",
    "c"
   ]
  },
  {
   "cell_type": "markdown",
   "id": "e82e8201",
   "metadata": {},
   "source": [
    "### Datetime objects"
   ]
  },
  {
   "cell_type": "code",
   "execution_count": 23,
   "id": "0cae1d3c",
   "metadata": {},
   "outputs": [],
   "source": [
    "from datetime import datetime, date, time"
   ]
  },
  {
   "cell_type": "code",
   "execution_count": 28,
   "id": "32738314",
   "metadata": {},
   "outputs": [],
   "source": [
    "dt = datetime(2023,10,14,17,1,30) # create a datetime object at the given date and time"
   ]
  },
  {
   "cell_type": "code",
   "execution_count": 29,
   "id": "888fff21",
   "metadata": {},
   "outputs": [
    {
     "data": {
      "text/plain": [
       "14"
      ]
     },
     "execution_count": 29,
     "metadata": {},
     "output_type": "execute_result"
    }
   ],
   "source": [
    "dt.day"
   ]
  },
  {
   "cell_type": "code",
   "execution_count": 30,
   "id": "6a7a6654",
   "metadata": {},
   "outputs": [
    {
     "data": {
      "text/plain": [
       "1"
      ]
     },
     "execution_count": 30,
     "metadata": {},
     "output_type": "execute_result"
    }
   ],
   "source": [
    "dt.minute"
   ]
  },
  {
   "cell_type": "code",
   "execution_count": 31,
   "id": "fdbd790d",
   "metadata": {},
   "outputs": [
    {
     "data": {
      "text/plain": [
       "datetime.date(2023, 10, 14)"
      ]
     },
     "execution_count": 31,
     "metadata": {},
     "output_type": "execute_result"
    }
   ],
   "source": [
    "# extract the date and time objects:\n",
    "dt.date()"
   ]
  },
  {
   "cell_type": "code",
   "execution_count": 32,
   "id": "822ea409",
   "metadata": {},
   "outputs": [
    {
     "data": {
      "text/plain": [
       "datetime.time(17, 1, 30)"
      ]
     },
     "execution_count": 32,
     "metadata": {},
     "output_type": "execute_result"
    }
   ],
   "source": [
    "dt.time()"
   ]
  },
  {
   "cell_type": "code",
   "execution_count": 34,
   "id": "6c466858",
   "metadata": {},
   "outputs": [
    {
     "data": {
      "text/plain": [
       "'14/10/2023 at 17:01'"
      ]
     },
     "execution_count": 34,
     "metadata": {},
     "output_type": "execute_result"
    }
   ],
   "source": [
    "# formats a datetime object as a string\n",
    "dt.strftime(\"%d/%m/%Y at %H:%M\")"
   ]
  },
  {
   "cell_type": "code",
   "execution_count": 35,
   "id": "f54866e6",
   "metadata": {},
   "outputs": [
    {
     "data": {
      "text/plain": [
       "datetime.datetime(2023, 10, 14, 0, 0)"
      ]
     },
     "execution_count": 35,
     "metadata": {},
     "output_type": "execute_result"
    }
   ],
   "source": [
    "# parse a string and convert it in datetime object\n",
    "thedate = \"14/10/2023\"\n",
    "dt2 = datetime.strptime(thedate,\"%d/%m/%Y\")\n",
    "dt2"
   ]
  },
  {
   "cell_type": "code",
   "execution_count": 37,
   "id": "2145ba8a",
   "metadata": {},
   "outputs": [
    {
     "name": "stdout",
     "output_type": "stream",
     "text": [
      "2023-10-14 17:01:30\n",
      "2023-10-14 17:00:00\n"
     ]
    }
   ],
   "source": [
    "# replace time fields of a datetime object\n",
    "print(dt)\n",
    "dt_hour = dt.replace(minute=0, second=0)\n",
    "dt_hour\n",
    "print(dt_hour)"
   ]
  },
  {
   "cell_type": "markdown",
   "id": "3ab28b8f",
   "metadata": {},
   "source": [
    "Datetime objects are immutable, so replace creates a new object."
   ]
  },
  {
   "cell_type": "markdown",
   "id": "47628619",
   "metadata": {},
   "source": [
    "Difference of two datetime objects generate a timedelta object"
   ]
  },
  {
   "cell_type": "code",
   "execution_count": 42,
   "id": "d3196790",
   "metadata": {},
   "outputs": [
    {
     "name": "stdout",
     "output_type": "stream",
     "text": [
      "2023-10-14 17:01:30\n",
      "2023-10-14 15:05:15\n"
     ]
    },
    {
     "data": {
      "text/plain": [
       "datetime.timedelta(seconds=6975)"
      ]
     },
     "execution_count": 42,
     "metadata": {},
     "output_type": "execute_result"
    }
   ],
   "source": [
    "print(dt)\n",
    "dt2 = datetime(2023,10,14,15,5,15)\n",
    "print(dt2)\n",
    "delta = dt - dt2\n",
    "delta\n"
   ]
  },
  {
   "cell_type": "code",
   "execution_count": 44,
   "id": "bebb7f4c",
   "metadata": {},
   "outputs": [
    {
     "data": {
      "text/plain": [
       "datetime.timedelta(days=-1, seconds=79425)"
      ]
     },
     "execution_count": 44,
     "metadata": {},
     "output_type": "execute_result"
    }
   ],
   "source": [
    "delta2 = dt2 - dt\n",
    "delta2"
   ]
  },
  {
   "cell_type": "markdown",
   "id": "18e44565",
   "metadata": {},
   "source": [
    "in this case the result is expressed as -1 day = (24*60*60) = -86400 seconds  plus 79425 seconds that leads to:"
   ]
  },
  {
   "cell_type": "code",
   "execution_count": 47,
   "id": "9bdfd1c8",
   "metadata": {},
   "outputs": [
    {
     "data": {
      "text/plain": [
       "-6975"
      ]
     },
     "execution_count": 47,
     "metadata": {},
     "output_type": "execute_result"
    }
   ],
   "source": [
    "-24*60*60 + 79425"
   ]
  },
  {
   "cell_type": "code",
   "execution_count": null,
   "id": "edc6b5e4",
   "metadata": {},
   "outputs": [],
   "source": []
  }
 ],
 "metadata": {
  "kernelspec": {
   "display_name": "Python 3 (ipykernel)",
   "language": "python",
   "name": "python3"
  },
  "language_info": {
   "codemirror_mode": {
    "name": "ipython",
    "version": 3
   },
   "file_extension": ".py",
   "mimetype": "text/x-python",
   "name": "python",
   "nbconvert_exporter": "python",
   "pygments_lexer": "ipython3",
   "version": "3.9.15"
  }
 },
 "nbformat": 4,
 "nbformat_minor": 5
}
